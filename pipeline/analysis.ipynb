{
 "cells": [
  {
   "cell_type": "markdown",
   "metadata": {},
   "source": [
    "# Museum Analysis"
   ]
  },
  {
   "cell_type": "code",
   "execution_count": 1,
   "metadata": {},
   "outputs": [],
   "source": [
    "import os\n",
    "import pandas as pd\n",
    "from psycopg2 import connect, Error\n",
    "from psycopg2.extras import RealDictCursor\n",
    "from sqlalchemy import create_engine, text\n",
    "import matplotlib.pyplot as plt"
   ]
  },
  {
   "cell_type": "markdown",
   "metadata": {},
   "source": []
  },
  {
   "cell_type": "code",
   "execution_count": 2,
   "metadata": {},
   "outputs": [],
   "source": [
    "DB_HOST = os.getenv('DB_HOST')\n",
    "DB_PORT = os.getenv('DB_PORT')\n",
    "DB_USER = os.getenv('DB_USER')\n",
    "DB_PASSWORD = os.getenv('DB_PASSWORD')\n",
    "DB_NAME = os.getenv('DB_NAME')"
   ]
  },
  {
   "cell_type": "code",
   "execution_count": 3,
   "metadata": {},
   "outputs": [],
   "source": [
    "conn = connect(\n",
    "        dbname=DB_NAME,\n",
    "        host=DB_HOST,\n",
    "        port=DB_PORT,\n",
    "        user=DB_USER,\n",
    "        password=DB_PASSWORD,\n",
    "        cursor_factory=RealDictCursor\n",
    "    )"
   ]
  },
  {
   "cell_type": "code",
   "execution_count": 4,
   "metadata": {},
   "outputs": [],
   "source": [
    "def run_sql_query(query: str) -> None:\n",
    "    try:\n",
    "        connection = connect(\n",
    "        dbname=DB_NAME,\n",
    "        host=DB_HOST,\n",
    "        port=DB_PORT,\n",
    "        user=DB_USER,\n",
    "        password=DB_PASSWORD,\n",
    "        cursor_factory=RealDictCursor\n",
    "        )\n",
    "        cursor = connection.cursor()\n",
    "        connection.autocommit = False\n",
    "\n",
    "        cursor.execute(query)\n",
    "        connection.commit()\n",
    "\n",
    "        rows = cursor.fetchall()\n",
    "        result = [dict(row) for row in rows]\n",
    "        print(result)\n",
    "        print(rows)\n",
    "\n",
    "    except Error as e:\n",
    "        print(e)\n",
    "        connection.rollback()\n",
    "        \n",
    "    finally:\n",
    "        cursor.close()\n",
    "        connection.close()\n",
    "        return result"
   ]
  },
  {
   "cell_type": "markdown",
   "metadata": {},
   "source": [
    "## What exhibition is most frequently visited?"
   ]
  },
  {
   "cell_type": "code",
   "execution_count": 5,
   "metadata": {},
   "outputs": [
    {
     "name": "stdout",
     "output_type": "stream",
     "text": [
      "[{'exhibit_id': 4, 'total_count': Decimal('16032')}]\n",
      "[RealDictRow([('exhibit_id', 4), ('total_count', Decimal('16032'))])]\n"
     ]
    },
    {
     "data": {
      "text/plain": [
       "'The most frequently visited exhibition is exhibit 4'"
      ]
     },
     "execution_count": 5,
     "metadata": {},
     "output_type": "execute_result"
    }
   ],
   "source": [
    "most_visited_exhibition = \"\"\"\n",
    "    SELECT exhibit_id, SUM(event_count) AS total_count\n",
    "    FROM (\n",
    "    SELECT exhibit_id, COUNT(id) AS event_count\n",
    "    FROM rating_events\n",
    "    GROUP BY exhibit_id\n",
    "    \n",
    "    UNION ALL\n",
    "    \n",
    "    SELECT exhibit_id, COUNT(support_value_id) AS event_count\n",
    "    FROM support_events\n",
    "    GROUP BY exhibit_id\n",
    "    ) AS combined_events\n",
    "    GROUP BY exhibit_id\n",
    "    ORDER BY total_count DESC\n",
    "    LIMIT 1;\n",
    "    \"\"\"\n",
    "\n",
    "query_result = run_sql_query(most_visited_exhibition)\n",
    "f'The most frequently visited exhibition is exhibit {query_result[0][\"exhibit_id\"]}'"
   ]
  },
  {
   "cell_type": "markdown",
   "metadata": {},
   "source": [
    "## What hour of the day has the most ratings?"
   ]
  },
  {
   "cell_type": "code",
   "execution_count": 31,
   "metadata": {},
   "outputs": [
    {
     "name": "stdout",
     "output_type": "stream",
     "text": [
      "[{'hour': Decimal('10'), 'ratings': 7424}, {'hour': Decimal('13'), 'ratings': 7296}, {'hour': Decimal('17'), 'ratings': 7200}, {'hour': Decimal('14'), 'ratings': 7168}, {'hour': Decimal('9'), 'ratings': 7072}, {'hour': Decimal('16'), 'ratings': 6688}, {'hour': Decimal('11'), 'ratings': 6272}, {'hour': Decimal('15'), 'ratings': 5952}, {'hour': Decimal('12'), 'ratings': 5728}, {'hour': Decimal('8'), 'ratings': 3232}, {'hour': Decimal('18'), 'ratings': 2016}]\n",
      "[RealDictRow([('hour', Decimal('10')), ('ratings', 7424)]), RealDictRow([('hour', Decimal('13')), ('ratings', 7296)]), RealDictRow([('hour', Decimal('17')), ('ratings', 7200)]), RealDictRow([('hour', Decimal('14')), ('ratings', 7168)]), RealDictRow([('hour', Decimal('9')), ('ratings', 7072)]), RealDictRow([('hour', Decimal('16')), ('ratings', 6688)]), RealDictRow([('hour', Decimal('11')), ('ratings', 6272)]), RealDictRow([('hour', Decimal('15')), ('ratings', 5952)]), RealDictRow([('hour', Decimal('12')), ('ratings', 5728)]), RealDictRow([('hour', Decimal('8')), ('ratings', 3232)]), RealDictRow([('hour', Decimal('18')), ('ratings', 2016)])]\n",
      "Hour: 10 Ratings: 7424\n",
      "Hour: 13 Ratings: 7296\n",
      "Hour: 17 Ratings: 7200\n",
      "Hour: 14 Ratings: 7168\n",
      "Hour: 9 Ratings: 7072\n",
      "Hour: 16 Ratings: 6688\n",
      "Hour: 11 Ratings: 6272\n",
      "Hour: 15 Ratings: 5952\n",
      "Hour: 12 Ratings: 5728\n",
      "Hour: 8 Ratings: 3232\n",
      "Hour: 18 Ratings: 2016\n"
     ]
    }
   ],
   "source": [
    "most_popular_hour = \"\"\"\n",
    "    SELECT EXTRACT(HOUR FROM rated_at) as hour,\n",
    "    COUNT(rating_value_id) AS ratings\n",
    "    FROM rating_events\n",
    "    GROUP BY hour\n",
    "    ORDER BY ratings DESC;\n",
    "\"\"\"\n",
    "\n",
    "query = run_sql_query(most_popular_hour)\n",
    "\n",
    "for row in query:\n",
    "    print(f\"Hour: {row['hour']} Ratings: {row['ratings']}\")"
   ]
  },
  {
   "cell_type": "markdown",
   "metadata": {},
   "source": [
    "## What is the average rating for each exhibition?"
   ]
  },
  {
   "cell_type": "code",
   "execution_count": 34,
   "metadata": {},
   "outputs": [
    {
     "name": "stdout",
     "output_type": "stream",
     "text": [
      "[{'exhibit_id': 4, 'average_rating': Decimal('3.83')}, {'exhibit_id': 2, 'average_rating': Decimal('2.93')}, {'exhibit_id': 1, 'average_rating': Decimal('2.92')}, {'exhibit_id': 3, 'average_rating': Decimal('2.43')}, {'exhibit_id': 5, 'average_rating': Decimal('2.22')}]\n",
      "[RealDictRow([('exhibit_id', 4), ('average_rating', Decimal('3.83'))]), RealDictRow([('exhibit_id', 2), ('average_rating', Decimal('2.93'))]), RealDictRow([('exhibit_id', 1), ('average_rating', Decimal('2.92'))]), RealDictRow([('exhibit_id', 3), ('average_rating', Decimal('2.43'))]), RealDictRow([('exhibit_id', 5), ('average_rating', Decimal('2.22'))])]\n",
      "Exhibit: 4 Average Rating: 3.83\n",
      "Exhibit: 2 Average Rating: 2.93\n",
      "Exhibit: 1 Average Rating: 2.92\n",
      "Exhibit: 3 Average Rating: 2.43\n",
      "Exhibit: 5 Average Rating: 2.22\n"
     ]
    }
   ],
   "source": [
    "average_exhibition_ratings = \"\"\"\n",
    "    SELECT exhibit_id, ROUND(AVG(rating_value_id), 2) as average_rating\n",
    "    FROM rating_events \n",
    "    GROUP BY exhibit_id\n",
    "    ORDER BY average_rating DESC\n",
    "\"\"\"\n",
    "\n",
    "query = run_sql_query(average_exhibition_ratings)\n",
    "for row in query:\n",
    "    print(f\"Exhibit: {row['exhibit_id']} Average Rating: {row['average_rating']}\")"
   ]
  },
  {
   "cell_type": "markdown",
   "metadata": {},
   "source": [
    "## What proportion of all 4+ ratings are given to exhibition 4?"
   ]
  },
  {
   "cell_type": "code",
   "execution_count": 35,
   "metadata": {},
   "outputs": [
    {
     "name": "stdout",
     "output_type": "stream",
     "text": [
      "[{'exhibit_id': 1, 'proportion_percentage': Decimal('15.07')}, {'exhibit_id': 3, 'proportion_percentage': Decimal('12.79')}, {'exhibit_id': 5, 'proportion_percentage': Decimal('9.13')}, {'exhibit_id': 4, 'proportion_percentage': Decimal('44.75')}, {'exhibit_id': 2, 'proportion_percentage': Decimal('18.26')}]\n",
      "[RealDictRow([('exhibit_id', 1), ('proportion_percentage', Decimal('15.07'))]), RealDictRow([('exhibit_id', 3), ('proportion_percentage', Decimal('12.79'))]), RealDictRow([('exhibit_id', 5), ('proportion_percentage', Decimal('9.13'))]), RealDictRow([('exhibit_id', 4), ('proportion_percentage', Decimal('44.75'))]), RealDictRow([('exhibit_id', 2), ('proportion_percentage', Decimal('18.26'))])]\n",
      "Exhibit 1 has 15.07% of ratings with value 4 or higher.\n",
      "Exhibit 3 has 12.79% of ratings with value 4 or higher.\n",
      "Exhibit 5 has 9.13% of ratings with value 4 or higher.\n",
      "Exhibit 4 has 44.75% of ratings with value 4 or higher.\n",
      "Exhibit 2 has 18.26% of ratings with value 4 or higher.\n"
     ]
    }
   ],
   "source": [
    "exhibit_four_ratings_proportion = \"\"\"\n",
    "    SELECT exhibit_id, \n",
    "    ROUND((COUNT(*) * 100.0 / SUM(COUNT(*)) OVER ()), 2) AS proportion_percentage\n",
    "    FROM rating_events\n",
    "    WHERE rating_value_id >= 4\n",
    "    GROUP BY exhibit_id\n",
    "\"\"\"\n",
    "query = run_sql_query(exhibit_four_ratings_proportion)\n",
    "\n",
    "for row in query:\n",
    "    print(f\"Exhibit {row['exhibit_id']} has {row['proportion_percentage']}% of ratings with value 4 or higher.\")"
   ]
  },
  {
   "cell_type": "markdown",
   "metadata": {},
   "source": [
    "## Are positive ratings more frequent before or after 1pm?"
   ]
  },
  {
   "cell_type": "code",
   "execution_count": 36,
   "metadata": {},
   "outputs": [
    {
     "name": "stdout",
     "output_type": "stream",
     "text": [
      "[{'before_1pm': 18144, 'after_1pm': 20640}]\n",
      "[RealDictRow([('before_1pm', 18144), ('after_1pm', 20640)])]\n",
      "Ratings before 1pm: 18144, Ratings after 1pm: 20640\n"
     ]
    }
   ],
   "source": [
    "ratings_before_or_after_1pm = \"\"\"\n",
    "    SELECT COUNT(CASE WHEN EXTRACT(HOUR FROM rated_at) < 13 THEN 1 END) AS before_1pm,\n",
    "           COUNT(CASE WHEN EXTRACT(HOUR FROM rated_at) >= 13 THEN 1 END) AS after_1pm\n",
    "           FROM rating_events\n",
    "           WHERE rating_value_id >= (\n",
    "           SELECT AVG(rating_value_id) FROM rating_events\n",
    "           );\n",
    "\"\"\"\n",
    "query = run_sql_query(ratings_before_or_after_1pm)\n",
    "\n",
    "for row in query:\n",
    "    print(f\"Ratings before 1pm: {row['before_1pm']}, Ratings after 1pm: {row['after_1pm']}\")"
   ]
  },
  {
   "cell_type": "markdown",
   "metadata": {},
   "source": [
    "## How many ratings each hour are above the average rating for exhibition 4?"
   ]
  },
  {
   "cell_type": "code",
   "execution_count": 38,
   "metadata": {},
   "outputs": [
    {
     "name": "stdout",
     "output_type": "stream",
     "text": [
      "[{'hour': Decimal('8'), 'ratings': 1120}, {'hour': Decimal('9'), 'ratings': 2208}, {'hour': Decimal('10'), 'ratings': 2368}, {'hour': Decimal('11'), 'ratings': 2304}, {'hour': Decimal('12'), 'ratings': 2016}, {'hour': Decimal('13'), 'ratings': 2240}, {'hour': Decimal('14'), 'ratings': 1920}, {'hour': Decimal('15'), 'ratings': 1728}, {'hour': Decimal('16'), 'ratings': 2272}, {'hour': Decimal('17'), 'ratings': 2240}, {'hour': Decimal('18'), 'ratings': 608}]\n",
      "[RealDictRow([('hour', Decimal('8')), ('ratings', 1120)]), RealDictRow([('hour', Decimal('9')), ('ratings', 2208)]), RealDictRow([('hour', Decimal('10')), ('ratings', 2368)]), RealDictRow([('hour', Decimal('11')), ('ratings', 2304)]), RealDictRow([('hour', Decimal('12')), ('ratings', 2016)]), RealDictRow([('hour', Decimal('13')), ('ratings', 2240)]), RealDictRow([('hour', Decimal('14')), ('ratings', 1920)]), RealDictRow([('hour', Decimal('15')), ('ratings', 1728)]), RealDictRow([('hour', Decimal('16')), ('ratings', 2272)]), RealDictRow([('hour', Decimal('17')), ('ratings', 2240)]), RealDictRow([('hour', Decimal('18')), ('ratings', 608)])]\n",
      "Ratings each hour above exhibit 4 average\n",
      "Hour: 8, Ratings: 1120\n",
      "Hour: 9, Ratings: 2208\n",
      "Hour: 10, Ratings: 2368\n",
      "Hour: 11, Ratings: 2304\n",
      "Hour: 12, Ratings: 2016\n",
      "Hour: 13, Ratings: 2240\n",
      "Hour: 14, Ratings: 1920\n",
      "Hour: 15, Ratings: 1728\n",
      "Hour: 16, Ratings: 2272\n",
      "Hour: 17, Ratings: 2240\n",
      "Hour: 18, Ratings: 608\n"
     ]
    }
   ],
   "source": [
    "hourly_ratings_above_exhibit_4 = \"\"\"\n",
    "    SELECT EXTRACT(HOUR FROM rated_at) AS hour,\n",
    "    COUNT(rating_value_id) AS ratings\n",
    "    FROM rating_events\n",
    "    WHERE rating_value_id > (\n",
    "        SELECT AVG(rating_value_id)\n",
    "        FROM rating_events\n",
    "        WHERE exhibit_id = 4\n",
    "    )\n",
    "    GROUP BY hour\n",
    "    ORDER BY hour;\n",
    "\"\"\"\n",
    "\n",
    "query = run_sql_query(hourly_ratings_above_exhibit_4)\n",
    "print(\"Ratings each hour above exhibit 4 average\")\n",
    "for row in query:\n",
    "    print(f\"Hour: {row['hour']}, Ratings: {row['ratings']}\")"
   ]
  },
  {
   "cell_type": "markdown",
   "metadata": {},
   "source": [
    "## Do Zoology exhibitions get better ratings than other types?"
   ]
  },
  {
   "cell_type": "code",
   "execution_count": 29,
   "metadata": {},
   "outputs": [
    {
     "name": "stdout",
     "output_type": "stream",
     "text": [
      "[{'name': 'Ecology', 'avg': Decimal('2.2162162162162162')}, {'name': 'Zoology', 'avg': Decimal('3.1995332555425904')}, {'name': 'Geology', 'avg': Decimal('2.9169435215946844')}, {'name': 'Entomology', 'avg': Decimal('2.9294117647058824')}]\n",
      "[RealDictRow([('name', 'Ecology'), ('avg', Decimal('2.2162162162162162'))]), RealDictRow([('name', 'Zoology'), ('avg', Decimal('3.1995332555425904'))]), RealDictRow([('name', 'Geology'), ('avg', Decimal('2.9169435215946844'))]), RealDictRow([('name', 'Entomology'), ('avg', Decimal('2.9294117647058824'))])]\n"
     ]
    },
    {
     "data": {
      "text/plain": [
       "[{'name': 'Ecology', 'avg': Decimal('2.2162162162162162')},\n",
       " {'name': 'Zoology', 'avg': Decimal('3.1995332555425904')},\n",
       " {'name': 'Geology', 'avg': Decimal('2.9169435215946844')},\n",
       " {'name': 'Entomology', 'avg': Decimal('2.9294117647058824')}]"
      ]
     },
     "execution_count": 29,
     "metadata": {},
     "output_type": "execute_result"
    }
   ],
   "source": [
    "above_average_departments = \"\"\"\n",
    "    SELECT departments.name, AVG(rating_events.rating_value_id)\n",
    "    FROM departments\n",
    "    JOIN exhibitions ON departments.id = exhibitions.department_id\n",
    "    JOIN rating_events ON exhibitions.id = rating_events.exhibit_id\n",
    "    GROUP BY departments.id\n",
    "\"\"\"\n",
    "\n",
    "run_sql_query(above_average_departments)"
   ]
  },
  {
   "cell_type": "markdown",
   "metadata": {},
   "source": [
    "## What exhibition has the most emergencies?"
   ]
  },
  {
   "cell_type": "code",
   "execution_count": 11,
   "metadata": {},
   "outputs": [
    {
     "name": "stdout",
     "output_type": "stream",
     "text": [
      "[{'exhibit_id': 3, 'count': 64}]\n",
      "[RealDictRow([('exhibit_id', 3), ('count', 64)])]\n"
     ]
    },
    {
     "data": {
      "text/plain": [
       "[{'exhibit_id': 3, 'count': 64}]"
      ]
     },
     "execution_count": 11,
     "metadata": {},
     "output_type": "execute_result"
    }
   ],
   "source": [
    "exhibit_with_most_emergencies = \"\"\"\n",
    "    SELECT exhibit_id, COUNT(support_value_id) \n",
    "    FROM support_events\n",
    "    WHERE support_value_id = 2\n",
    "    GROUP BY exhibit_id;\n",
    "\"\"\"\n",
    "\n",
    "run_sql_query(exhibit_with_most_emergencies)"
   ]
  },
  {
   "cell_type": "markdown",
   "metadata": {},
   "source": [
    "## Which exhibitions receive fewer assistance requests than the average?"
   ]
  },
  {
   "cell_type": "code",
   "execution_count": 12,
   "metadata": {},
   "outputs": [
    {
     "name": "stdout",
     "output_type": "stream",
     "text": [
      "[{'exhibit_id': 1, 'count': 288}, {'exhibit_id': 3, 'count': 384}, {'exhibit_id': 5, 'count': 352}, {'exhibit_id': 4, 'count': 928}, {'exhibit_id': 2, 'count': 320}]\n",
      "[RealDictRow([('exhibit_id', 1), ('count', 288)]), RealDictRow([('exhibit_id', 3), ('count', 384)]), RealDictRow([('exhibit_id', 5), ('count', 352)]), RealDictRow([('exhibit_id', 4), ('count', 928)]), RealDictRow([('exhibit_id', 2), ('count', 320)])]\n"
     ]
    },
    {
     "data": {
      "text/plain": [
       "[{'exhibit_id': 1, 'count': 288},\n",
       " {'exhibit_id': 3, 'count': 384},\n",
       " {'exhibit_id': 5, 'count': 352},\n",
       " {'exhibit_id': 4, 'count': 928},\n",
       " {'exhibit_id': 2, 'count': 320}]"
      ]
     },
     "execution_count": 12,
     "metadata": {},
     "output_type": "execute_result"
    }
   ],
   "source": [
    "assistance_requests_per_exhibit = \"\"\"\n",
    "    SELECT exhibit_id, COUNT(support_value_id)\n",
    "    FROM support_events\n",
    "    WHERE support_value_id = 1\n",
    "    GROUP BY exhibit_id;\n",
    "\"\"\"\n",
    "\n",
    "run_sql_query(assistance_requests_per_exhibit)"
   ]
  },
  {
   "cell_type": "markdown",
   "metadata": {},
   "source": [
    "## Are there particular times when assistance requests/emergencies are more likely?"
   ]
  },
  {
   "cell_type": "code",
   "execution_count": 39,
   "metadata": {},
   "outputs": [
    {
     "name": "stdout",
     "output_type": "stream",
     "text": [
      "[{'hour': Decimal('14'), 'requests': 352}, {'hour': Decimal('16'), 'requests': 288}, {'hour': Decimal('10'), 'requests': 256}, {'hour': Decimal('12'), 'requests': 224}, {'hour': Decimal('17'), 'requests': 224}, {'hour': Decimal('15'), 'requests': 192}, {'hour': Decimal('9'), 'requests': 192}, {'hour': Decimal('11'), 'requests': 192}, {'hour': Decimal('18'), 'requests': 160}, {'hour': Decimal('13'), 'requests': 128}, {'hour': Decimal('8'), 'requests': 64}]\n",
      "[RealDictRow([('hour', Decimal('14')), ('requests', 352)]), RealDictRow([('hour', Decimal('16')), ('requests', 288)]), RealDictRow([('hour', Decimal('10')), ('requests', 256)]), RealDictRow([('hour', Decimal('12')), ('requests', 224)]), RealDictRow([('hour', Decimal('17')), ('requests', 224)]), RealDictRow([('hour', Decimal('15')), ('requests', 192)]), RealDictRow([('hour', Decimal('9')), ('requests', 192)]), RealDictRow([('hour', Decimal('11')), ('requests', 192)]), RealDictRow([('hour', Decimal('18')), ('requests', 160)]), RealDictRow([('hour', Decimal('13')), ('requests', 128)]), RealDictRow([('hour', Decimal('8')), ('requests', 64)])]\n",
      "Hour: 14 Requests: 352\n",
      "Hour: 16 Requests: 288\n",
      "Hour: 10 Requests: 256\n",
      "Hour: 12 Requests: 224\n",
      "Hour: 17 Requests: 224\n",
      "Hour: 15 Requests: 192\n",
      "Hour: 9 Requests: 192\n",
      "Hour: 11 Requests: 192\n",
      "Hour: 18 Requests: 160\n",
      "Hour: 13 Requests: 128\n",
      "Hour: 8 Requests: 64\n"
     ]
    }
   ],
   "source": [
    "assistance_requests_per_hour = \"\"\"\n",
    "    SELECT EXTRACT (HOUR FROM made_at) AS hour,\n",
    "    COUNT(support_value_id) AS requests\n",
    "    FROM support_events\n",
    "    WHERE support_value_id = 1\n",
    "    GROUP BY hour\n",
    "    ORDER BY requests DESC;\n",
    "\"\"\"\n",
    "\n",
    "query = run_sql_query(assistance_requests_per_hour)\n",
    "\n",
    "for row in query:\n",
    "    print(f\"Hour: {row['hour']} Requests: {row['requests']}\")"
   ]
  },
  {
   "cell_type": "markdown",
   "metadata": {},
   "source": [
    "## Are emergencies more likely in exhibitions that are more exciting than others?"
   ]
  },
  {
   "cell_type": "code",
   "execution_count": 40,
   "metadata": {},
   "outputs": [
    {
     "name": "stdout",
     "output_type": "stream",
     "text": [
      "[{'exhibit_id': 1, 'count': 0}, {'exhibit_id': 4, 'count': 0}, {'exhibit_id': 2, 'count': 0}]\n",
      "[RealDictRow([('exhibit_id', 1), ('count', 0)]), RealDictRow([('exhibit_id', 4), ('count', 0)]), RealDictRow([('exhibit_id', 2), ('count', 0)])]\n",
      "Emergencies in above average exhibits\n",
      "Exhibit: 1 Emergencies: 0\n",
      "Exhibit: 4 Emergencies: 0\n",
      "Exhibit: 2 Emergencies: 0\n"
     ]
    }
   ],
   "source": [
    "above_average_exhibit_emergencies = \"\"\"\n",
    "    SELECT exhibit_id, \n",
    "    COUNT(CASE WHEN support_value_id = 2 THEN support_value_id END)\n",
    "    FROM support_events\n",
    "    WHERE exhibit_id IN (\n",
    "        SELECT exhibit_id FROM rating_events\n",
    "        GROUP BY exhibit_id\n",
    "        HAVING AVG(rating_value_id) > (SELECT AVG(rating_value_id) FROM rating_events)\n",
    "    )\n",
    "    GROUP BY exhibit_id;\n",
    "\"\"\"\n",
    "\n",
    "query = run_sql_query(above_average_exhibit_emergencies)\n",
    "print(\"Emergencies in above average exhibits\")\n",
    "for row in query:\n",
    "    print(f\"Exhibit: {row['exhibit_id']} Emergencies: {row['count']}\")"
   ]
  },
  {
   "cell_type": "markdown",
   "metadata": {},
   "source": [
    "## Which floors are above average for ratings?"
   ]
  },
  {
   "cell_type": "code",
   "execution_count": 41,
   "metadata": {},
   "outputs": [
    {
     "name": "stdout",
     "output_type": "stream",
     "text": [
      "[{'name': '3', 'avg': Decimal('2.2162162162162162')}, {'name': '1', 'avg': Decimal('3.4747736093143596')}, {'name': '2', 'avg': Decimal('2.4259740259740260')}, {'name': 'Vault', 'avg': Decimal('2.9294117647058824')}]\n",
      "[RealDictRow([('name', '3'), ('avg', Decimal('2.2162162162162162'))]), RealDictRow([('name', '1'), ('avg', Decimal('3.4747736093143596'))]), RealDictRow([('name', '2'), ('avg', Decimal('2.4259740259740260'))]), RealDictRow([('name', 'Vault'), ('avg', Decimal('2.9294117647058824'))])]\n",
      "Floor: 3 Average Rating: 2.2162162162162162\n",
      "Floor: 1 Average Rating: 3.4747736093143596\n",
      "Floor: 2 Average Rating: 2.4259740259740260\n",
      "Floor: Vault Average Rating: 2.9294117647058824\n"
     ]
    }
   ],
   "source": [
    "above_average_floors = \"\"\"\n",
    "    SELECT floors.name, AVG(rating_events.rating_value_id)\n",
    "    FROM floors\n",
    "    JOIN exhibitions ON floors.id = exhibitions.floor_id\n",
    "    JOIN rating_events ON exhibitions.id = rating_events.exhibit_id\n",
    "    GROUP BY floors.id\n",
    "\"\"\"\n",
    "\n",
    "query = run_sql_query(above_average_floors)\n",
    "\n",
    "for row in query:\n",
    "    print(f\"Floor: {row['name']} Average Rating: {row['avg']}\")"
   ]
  }
 ],
 "metadata": {
  "kernelspec": {
   "display_name": "venv",
   "language": "python",
   "name": "python3"
  },
  "language_info": {
   "codemirror_mode": {
    "name": "ipython",
    "version": 3
   },
   "file_extension": ".py",
   "mimetype": "text/x-python",
   "name": "python",
   "nbconvert_exporter": "python",
   "pygments_lexer": "ipython3",
   "version": "3.9.12"
  }
 },
 "nbformat": 4,
 "nbformat_minor": 2
}
