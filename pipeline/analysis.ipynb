{
 "cells": [
  {
   "cell_type": "code",
   "execution_count": 1,
   "metadata": {},
   "outputs": [],
   "source": [
    "import os\n",
    "import pandas as pd\n",
    "from psycopg2 import connect, Error\n",
    "from psycopg2.extras import RealDictCursor\n",
    "from sqlalchemy import create_engine, text\n",
    "import matplotlib.pyplot as plt"
   ]
  },
  {
   "cell_type": "code",
   "execution_count": 2,
   "metadata": {},
   "outputs": [],
   "source": [
    "DB_HOST = os.getenv('DB_HOST')\n",
    "DB_PORT = os.getenv('DB_PORT')\n",
    "DB_USER = os.getenv('DB_USER')\n",
    "DB_PASSWORD = os.getenv('DB_PASSWORD')\n",
    "DB_NAME = os.getenv('DB_NAME')"
   ]
  },
  {
   "cell_type": "code",
   "execution_count": 7,
   "metadata": {},
   "outputs": [
    {
     "name": "stdout",
     "output_type": "stream",
     "text": [
      "{'id': 1, 'exhibit_id': 5, 'rating_value_id': 1, 'rated_at': datetime.datetime(2023, 3, 6, 15, 9, 21, tzinfo=datetime.timezone.utc)}\n"
     ]
    }
   ],
   "source": [
    "try:\n",
    "    conn = connect(\n",
    "        dbname=DB_NAME,\n",
    "        host=DB_HOST,\n",
    "        port=DB_PORT,\n",
    "        user=DB_USER,\n",
    "        password=DB_PASSWORD,\n",
    "        cursor_factory=RealDictCursor\n",
    "    )\n",
    "    cur = conn.cursor()\n",
    "\n",
    "    # Begin the transaction explicitly\n",
    "    conn.autocommit = False\n",
    "\n",
    "    # Execute your SQL queries\n",
    "    cur.execute(\"\"\"\n",
    "    SELECT * FROM rating_events LIMIT 10;\n",
    "    \"\"\")\n",
    "\n",
    "    # Commit the transaction if everything is successful\n",
    "    conn.commit()\n",
    "\n",
    "    # Fetch all rows from the result set\n",
    "    rows = cur.fetchall()\n",
    "\n",
    "    # Display the results\n",
    "    result = [dict(row) for row in rows]\n",
    "    print(result[0])\n",
    "\n",
    "except Error as e:\n",
    "    # Handle exceptions\n",
    "    print(\"Error:\", e)\n",
    "    # Rollback the transaction\n",
    "    conn.rollback()\n",
    "\n",
    "finally:\n",
    "    # Close cursor and connection\n",
    "    cur.close()\n",
    "    conn.close()"
   ]
  }
 ],
 "metadata": {
  "kernelspec": {
   "display_name": "venv",
   "language": "python",
   "name": "python3"
  },
  "language_info": {
   "codemirror_mode": {
    "name": "ipython",
    "version": 3
   },
   "file_extension": ".py",
   "mimetype": "text/x-python",
   "name": "python",
   "nbconvert_exporter": "python",
   "pygments_lexer": "ipython3",
   "version": "3.9.12"
  }
 },
 "nbformat": 4,
 "nbformat_minor": 2
}
