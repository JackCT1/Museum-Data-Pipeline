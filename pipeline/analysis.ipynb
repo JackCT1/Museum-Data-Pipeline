{
 "cells": [
  {
   "cell_type": "code",
   "execution_count": 1,
   "metadata": {},
   "outputs": [],
   "source": [
    "import os\n",
    "import pandas as pd\n",
    "from sqlalchemy import create_engine, text"
   ]
  },
  {
   "cell_type": "code",
   "execution_count": 2,
   "metadata": {},
   "outputs": [],
   "source": [
    "DB_HOST = os.getenv('DB_HOST')\n",
    "DB_PORT = os.getenv('DB_PORT')\n",
    "DB_USER = os.getenv('DB_USER')\n",
    "DB_PASSWORD = os.getenv('DB_PASSWORD')\n",
    "DB_NAME = os.getenv('DB_NAME')"
   ]
  },
  {
   "cell_type": "code",
   "execution_count": 3,
   "metadata": {},
   "outputs": [],
   "source": [
    "engine = create_engine(f\"postgresql://{DB_USER}:{DB_PASSWORD}@{DB_HOST}:{DB_PORT}/{DB_NAME}\")\n",
    "connection = engine.connect()"
   ]
  },
  {
   "cell_type": "code",
   "execution_count": 4,
   "metadata": {},
   "outputs": [
    {
     "data": {
      "text/html": [
       "<div>\n",
       "<style scoped>\n",
       "    .dataframe tbody tr th:only-of-type {\n",
       "        vertical-align: middle;\n",
       "    }\n",
       "\n",
       "    .dataframe tbody tr th {\n",
       "        vertical-align: top;\n",
       "    }\n",
       "\n",
       "    .dataframe thead th {\n",
       "        text-align: right;\n",
       "    }\n",
       "</style>\n",
       "<table border=\"1\" class=\"dataframe\">\n",
       "  <thead>\n",
       "    <tr style=\"text-align: right;\">\n",
       "      <th></th>\n",
       "      <th>id</th>\n",
       "      <th>exhibit_id</th>\n",
       "      <th>rating_value_id</th>\n",
       "      <th>rated_at</th>\n",
       "    </tr>\n",
       "  </thead>\n",
       "  <tbody>\n",
       "    <tr>\n",
       "      <th>0</th>\n",
       "      <td>0</td>\n",
       "      <td>5</td>\n",
       "      <td>1</td>\n",
       "      <td>2023-03-06 15:09:21+00:00</td>\n",
       "    </tr>\n",
       "    <tr>\n",
       "      <th>1</th>\n",
       "      <td>1</td>\n",
       "      <td>2</td>\n",
       "      <td>2</td>\n",
       "      <td>2023-03-06 17:43:27+00:00</td>\n",
       "    </tr>\n",
       "    <tr>\n",
       "      <th>2</th>\n",
       "      <td>2</td>\n",
       "      <td>2</td>\n",
       "      <td>4</td>\n",
       "      <td>2023-03-06 13:13:34+00:00</td>\n",
       "    </tr>\n",
       "    <tr>\n",
       "      <th>3</th>\n",
       "      <td>3</td>\n",
       "      <td>1</td>\n",
       "      <td>4</td>\n",
       "      <td>2023-03-06 17:20:43+00:00</td>\n",
       "    </tr>\n",
       "    <tr>\n",
       "      <th>4</th>\n",
       "      <td>4</td>\n",
       "      <td>5</td>\n",
       "      <td>2</td>\n",
       "      <td>2023-03-06 14:54:21+00:00</td>\n",
       "    </tr>\n",
       "    <tr>\n",
       "      <th>...</th>\n",
       "      <td>...</td>\n",
       "      <td>...</td>\n",
       "      <td>...</td>\n",
       "      <td>...</td>\n",
       "    </tr>\n",
       "    <tr>\n",
       "      <th>66043</th>\n",
       "      <td>66043</td>\n",
       "      <td>3</td>\n",
       "      <td>2</td>\n",
       "      <td>2023-03-06 08:43:43+00:00</td>\n",
       "    </tr>\n",
       "    <tr>\n",
       "      <th>66044</th>\n",
       "      <td>66044</td>\n",
       "      <td>3</td>\n",
       "      <td>1</td>\n",
       "      <td>2023-03-06 17:06:19+00:00</td>\n",
       "    </tr>\n",
       "    <tr>\n",
       "      <th>66045</th>\n",
       "      <td>66045</td>\n",
       "      <td>3</td>\n",
       "      <td>2</td>\n",
       "      <td>2023-03-06 14:00:58+00:00</td>\n",
       "    </tr>\n",
       "    <tr>\n",
       "      <th>66046</th>\n",
       "      <td>66046</td>\n",
       "      <td>3</td>\n",
       "      <td>1</td>\n",
       "      <td>2023-03-06 11:06:09+00:00</td>\n",
       "    </tr>\n",
       "    <tr>\n",
       "      <th>66047</th>\n",
       "      <td>66047</td>\n",
       "      <td>3</td>\n",
       "      <td>3</td>\n",
       "      <td>2023-03-06 13:08:47+00:00</td>\n",
       "    </tr>\n",
       "  </tbody>\n",
       "</table>\n",
       "<p>66048 rows × 4 columns</p>\n",
       "</div>"
      ],
      "text/plain": [
       "          id  exhibit_id  rating_value_id                  rated_at\n",
       "0          0           5                1 2023-03-06 15:09:21+00:00\n",
       "1          1           2                2 2023-03-06 17:43:27+00:00\n",
       "2          2           2                4 2023-03-06 13:13:34+00:00\n",
       "3          3           1                4 2023-03-06 17:20:43+00:00\n",
       "4          4           5                2 2023-03-06 14:54:21+00:00\n",
       "...      ...         ...              ...                       ...\n",
       "66043  66043           3                2 2023-03-06 08:43:43+00:00\n",
       "66044  66044           3                1 2023-03-06 17:06:19+00:00\n",
       "66045  66045           3                2 2023-03-06 14:00:58+00:00\n",
       "66046  66046           3                1 2023-03-06 11:06:09+00:00\n",
       "66047  66047           3                3 2023-03-06 13:08:47+00:00\n",
       "\n",
       "[66048 rows x 4 columns]"
      ]
     },
     "execution_count": 4,
     "metadata": {},
     "output_type": "execute_result"
    }
   ],
   "source": [
    "rating_df = pd.read_sql_query(f\"SELECT * FROM rating_events;\", connection)\n",
    "rating_df"
   ]
  },
  {
   "cell_type": "code",
   "execution_count": 5,
   "metadata": {},
   "outputs": [
    {
     "data": {
      "text/html": [
       "<div>\n",
       "<style scoped>\n",
       "    .dataframe tbody tr th:only-of-type {\n",
       "        vertical-align: middle;\n",
       "    }\n",
       "\n",
       "    .dataframe tbody tr th {\n",
       "        vertical-align: top;\n",
       "    }\n",
       "\n",
       "    .dataframe thead th {\n",
       "        text-align: right;\n",
       "    }\n",
       "</style>\n",
       "<table border=\"1\" class=\"dataframe\">\n",
       "  <thead>\n",
       "    <tr style=\"text-align: right;\">\n",
       "      <th></th>\n",
       "      <th>id</th>\n",
       "      <th>exhibit_id</th>\n",
       "      <th>support_value_id</th>\n",
       "      <th>made_at</th>\n",
       "    </tr>\n",
       "  </thead>\n",
       "  <tbody>\n",
       "  </tbody>\n",
       "</table>\n",
       "</div>"
      ],
      "text/plain": [
       "Empty DataFrame\n",
       "Columns: [id, exhibit_id, support_value_id, made_at]\n",
       "Index: []"
      ]
     },
     "execution_count": 5,
     "metadata": {},
     "output_type": "execute_result"
    }
   ],
   "source": [
    "support_df = pd.read_sql_query(f\"SELECT * FROM support_events;\", connection)\n",
    "support_df"
   ]
  }
 ],
 "metadata": {
  "kernelspec": {
   "display_name": "venv",
   "language": "python",
   "name": "python3"
  },
  "language_info": {
   "codemirror_mode": {
    "name": "ipython",
    "version": 3
   },
   "file_extension": ".py",
   "mimetype": "text/x-python",
   "name": "python",
   "nbconvert_exporter": "python",
   "pygments_lexer": "ipython3",
   "version": "3.9.12"
  }
 },
 "nbformat": 4,
 "nbformat_minor": 2
}
