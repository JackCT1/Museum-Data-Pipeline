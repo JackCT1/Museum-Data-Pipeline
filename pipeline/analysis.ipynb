{
 "cells": [
  {
   "cell_type": "markdown",
   "metadata": {},
   "source": [
    "# Museum Analysis"
   ]
  },
  {
   "cell_type": "code",
   "execution_count": 1,
   "metadata": {},
   "outputs": [],
   "source": [
    "import os\n",
    "import pandas as pd\n",
    "from psycopg2 import connect, Error\n",
    "from psycopg2.extras import RealDictCursor\n",
    "from sqlalchemy import create_engine, text\n",
    "import matplotlib.pyplot as plt"
   ]
  },
  {
   "cell_type": "markdown",
   "metadata": {},
   "source": []
  },
  {
   "cell_type": "code",
   "execution_count": 2,
   "metadata": {},
   "outputs": [],
   "source": [
    "DB_HOST = os.getenv('DB_HOST')\n",
    "DB_PORT = os.getenv('DB_PORT')\n",
    "DB_USER = os.getenv('DB_USER')\n",
    "DB_PASSWORD = os.getenv('DB_PASSWORD')\n",
    "DB_NAME = os.getenv('DB_NAME')"
   ]
  },
  {
   "cell_type": "code",
   "execution_count": 6,
   "metadata": {},
   "outputs": [],
   "source": [
    "conn = connect(\n",
    "        dbname=DB_NAME,\n",
    "        host=DB_HOST,\n",
    "        port=DB_PORT,\n",
    "        user=DB_USER,\n",
    "        password=DB_PASSWORD,\n",
    "        cursor_factory=RealDictCursor\n",
    "    )"
   ]
  },
  {
   "cell_type": "code",
   "execution_count": 33,
   "metadata": {},
   "outputs": [],
   "source": [
    "def run_sql_query(query: str) -> None:\n",
    "    try:\n",
    "        connection = connect(\n",
    "        dbname=DB_NAME,\n",
    "        host=DB_HOST,\n",
    "        port=DB_PORT,\n",
    "        user=DB_USER,\n",
    "        password=DB_PASSWORD,\n",
    "        cursor_factory=RealDictCursor\n",
    "        )\n",
    "        cursor = connection.cursor()\n",
    "        connection.autocommit = False\n",
    "\n",
    "        cursor.execute(query)\n",
    "        connection.commit()\n",
    "\n",
    "        rows = cursor.fetchall()\n",
    "        result = [dict(row) for row in rows]\n",
    "        print(result)\n",
    "        print(rows)\n",
    "\n",
    "    except Error as e:\n",
    "        print(e)\n",
    "        connection.rollback()\n",
    "        \n",
    "    finally:\n",
    "        cursor.close()\n",
    "        connection.close()\n",
    "        return result"
   ]
  },
  {
   "cell_type": "markdown",
   "metadata": {},
   "source": [
    "## What exhibition is most frequently visited?"
   ]
  },
  {
   "cell_type": "code",
   "execution_count": 34,
   "metadata": {},
   "outputs": [
    {
     "name": "stdout",
     "output_type": "stream",
     "text": [
      "[{'exhibit_id': 4, 'total_count': Decimal('16032')}]\n",
      "[RealDictRow([('exhibit_id', 4), ('total_count', Decimal('16032'))])]\n"
     ]
    },
    {
     "data": {
      "text/plain": [
       "'The most frequently visited exhibition is exhibit 4'"
      ]
     },
     "execution_count": 34,
     "metadata": {},
     "output_type": "execute_result"
    }
   ],
   "source": [
    "most_visited_exhibition = \"\"\"\n",
    "    SELECT exhibit_id, SUM(event_count) AS total_count\n",
    "    FROM (\n",
    "    SELECT exhibit_id, COUNT(id) AS event_count\n",
    "    FROM rating_events\n",
    "    GROUP BY exhibit_id\n",
    "    \n",
    "    UNION ALL\n",
    "    \n",
    "    SELECT exhibit_id, COUNT(support_value_id) AS event_count\n",
    "    FROM support_events\n",
    "    GROUP BY exhibit_id\n",
    "    ) AS combined_events\n",
    "    GROUP BY exhibit_id\n",
    "    ORDER BY total_count DESC\n",
    "    LIMIT 1;\n",
    "    \"\"\"\n",
    "\n",
    "query_result = run_sql_query(most_visited_exhibition)\n",
    "f'The most frequently visited exhibition is exhibit {query_result[0][\"exhibit_id\"]}'"
   ]
  },
  {
   "cell_type": "markdown",
   "metadata": {},
   "source": [
    "## What hour of the day has the most ratings?"
   ]
  },
  {
   "cell_type": "code",
   "execution_count": null,
   "metadata": {},
   "outputs": [],
   "source": [
    "most_popular_hour = \"\"\"\"\"\""
   ]
  },
  {
   "cell_type": "markdown",
   "metadata": {},
   "source": [
    "## What is the average rating for each exhibition?"
   ]
  },
  {
   "cell_type": "code",
   "execution_count": 43,
   "metadata": {},
   "outputs": [
    {
     "name": "stdout",
     "output_type": "stream",
     "text": [
      "[{'exhibit_id': 4, 'average_rating': Decimal('3.83')}, {'exhibit_id': 2, 'average_rating': Decimal('2.93')}, {'exhibit_id': 1, 'average_rating': Decimal('2.92')}, {'exhibit_id': 3, 'average_rating': Decimal('2.43')}, {'exhibit_id': 5, 'average_rating': Decimal('2.22')}]\n",
      "[RealDictRow([('exhibit_id', 4), ('average_rating', Decimal('3.83'))]), RealDictRow([('exhibit_id', 2), ('average_rating', Decimal('2.93'))]), RealDictRow([('exhibit_id', 1), ('average_rating', Decimal('2.92'))]), RealDictRow([('exhibit_id', 3), ('average_rating', Decimal('2.43'))]), RealDictRow([('exhibit_id', 5), ('average_rating', Decimal('2.22'))])]\n"
     ]
    },
    {
     "data": {
      "text/plain": [
       "''"
      ]
     },
     "execution_count": 43,
     "metadata": {},
     "output_type": "execute_result"
    }
   ],
   "source": [
    "average_exhibition_ratings = \"\"\"\n",
    "    SELECT exhibit_id, ROUND(AVG(rating_value_id), 2) as average_rating\n",
    "    FROM rating_events \n",
    "    GROUP BY exhibit_id\n",
    "    ORDER BY average_rating DESC\n",
    "\"\"\"\n",
    "\n",
    "query_result = run_sql_query(average_exhibition_ratings)\n",
    "query_result[0]['average_rating']\n",
    "float(query_result[0]['average_rating'])\n",
    "f\"\""
   ]
  },
  {
   "cell_type": "markdown",
   "metadata": {},
   "source": [
    "## What proportion of all 4+ ratings are given to exhibition 4?"
   ]
  },
  {
   "cell_type": "code",
   "execution_count": 44,
   "metadata": {},
   "outputs": [
    {
     "name": "stdout",
     "output_type": "stream",
     "text": [
      "[{'exhibit_id': 1, 'proportion_percentage': Decimal('15.07')}, {'exhibit_id': 3, 'proportion_percentage': Decimal('12.79')}, {'exhibit_id': 5, 'proportion_percentage': Decimal('9.13')}, {'exhibit_id': 4, 'proportion_percentage': Decimal('44.75')}, {'exhibit_id': 2, 'proportion_percentage': Decimal('18.26')}]\n",
      "[RealDictRow([('exhibit_id', 1), ('proportion_percentage', Decimal('15.07'))]), RealDictRow([('exhibit_id', 3), ('proportion_percentage', Decimal('12.79'))]), RealDictRow([('exhibit_id', 5), ('proportion_percentage', Decimal('9.13'))]), RealDictRow([('exhibit_id', 4), ('proportion_percentage', Decimal('44.75'))]), RealDictRow([('exhibit_id', 2), ('proportion_percentage', Decimal('18.26'))])]\n"
     ]
    },
    {
     "data": {
      "text/plain": [
       "[{'exhibit_id': 1, 'proportion_percentage': Decimal('15.07')},\n",
       " {'exhibit_id': 3, 'proportion_percentage': Decimal('12.79')},\n",
       " {'exhibit_id': 5, 'proportion_percentage': Decimal('9.13')},\n",
       " {'exhibit_id': 4, 'proportion_percentage': Decimal('44.75')},\n",
       " {'exhibit_id': 2, 'proportion_percentage': Decimal('18.26')}]"
      ]
     },
     "execution_count": 44,
     "metadata": {},
     "output_type": "execute_result"
    }
   ],
   "source": [
    "exhibit_four_ratings_proportion = \"\"\"\n",
    "    SELECT exhibit_id, \n",
    "    ROUND((COUNT(*) * 100.0 / SUM(COUNT(*)) OVER ()), 2) AS proportion_percentage\n",
    "    FROM rating_events\n",
    "    WHERE rating_value_id >= 4\n",
    "    GROUP BY exhibit_id\n",
    "\"\"\"\n",
    "run_sql_query(exhibit_four_ratings_proportion)"
   ]
  },
  {
   "cell_type": "markdown",
   "metadata": {},
   "source": [
    "## Are positive ratings more frequent before or after 1pm?"
   ]
  },
  {
   "cell_type": "markdown",
   "metadata": {},
   "source": [
    "## How many ratings each hour are above the average rating for exhibition 4?"
   ]
  },
  {
   "cell_type": "markdown",
   "metadata": {},
   "source": [
    "## Do Zoology exhibitions get better ratings than other types?"
   ]
  },
  {
   "cell_type": "markdown",
   "metadata": {},
   "source": [
    "## What exhibition has the most emergencies?"
   ]
  },
  {
   "cell_type": "markdown",
   "metadata": {},
   "source": [
    "## Which exhibitions receive fewer assistance requests than the average?"
   ]
  },
  {
   "cell_type": "markdown",
   "metadata": {},
   "source": [
    "## Are there particular times when assistance requests/emergencies are more likely?"
   ]
  },
  {
   "cell_type": "markdown",
   "metadata": {},
   "source": [
    "## Are emergencies more likely in exhibitions that are more exciting than others?"
   ]
  },
  {
   "cell_type": "markdown",
   "metadata": {},
   "source": [
    "## Which floors are above average for ratings?"
   ]
  }
 ],
 "metadata": {
  "kernelspec": {
   "display_name": "venv",
   "language": "python",
   "name": "python3"
  },
  "language_info": {
   "codemirror_mode": {
    "name": "ipython",
    "version": 3
   },
   "file_extension": ".py",
   "mimetype": "text/x-python",
   "name": "python",
   "nbconvert_exporter": "python",
   "pygments_lexer": "ipython3",
   "version": "3.9.12"
  }
 },
 "nbformat": 4,
 "nbformat_minor": 2
}
